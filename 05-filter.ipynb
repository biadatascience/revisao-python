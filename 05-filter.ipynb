{
 "cells": [
  {
   "cell_type": "markdown",
   "metadata": {},
   "source": [
    "# Método filter()\n",
    "\n",
    "Utilizado para filtrar elementos de um iterável (como listas, tuplas, etc.) com base em uma função que retorna True ou False. Ele aplica essa função a cada elemento e retorna um iterador contendo apenas os elementos para os quais a função retornou True.\n",
    "\n",
    "<b>Sintaxe</b>\n",
    "\n",
    "filter(function, iterable)\n",
    "\n",
    "- function: Uma função que retorna True ou False para cada elemento do iterável.\n",
    "- iterable: O iterável (lista, tupla, etc.) cujos elementos você deseja filtrar.\n",
    "\n",
    "O filter() não retorna uma lista diretamente, mas um iterador. Se quiser o resultado em formato de lista, você precisa usar a função list()."
   ]
  },
  {
   "cell_type": "markdown",
   "metadata": {
    "vscode": {
     "languageId": "plaintext"
    }
   },
   "source": [
    "## Exemplo 1) Filtrando números pares de uma lista\n",
    "\n",
    "Aqui, vamos usar uma função lambda para filtrar apenas os números pares de uma lista."
   ]
  },
  {
   "cell_type": "code",
   "execution_count": 6,
   "metadata": {},
   "outputs": [
    {
     "data": {
      "text/plain": [
       "[2, 4, 6, 8, 10]"
      ]
     },
     "execution_count": 6,
     "metadata": {},
     "output_type": "execute_result"
    }
   ],
   "source": [
    "import numpy as np\n",
    "\n",
    "numeros = list(np.arange(1,11))\n",
    "\n",
    "# usando filter para extrair os números pares\n",
    "# filter(function, iterable)\n",
    "pares = list(filter(lambda num: num%2==0, numeros))\n",
    "pares"
   ]
  },
  {
   "cell_type": "markdown",
   "metadata": {},
   "source": [
    "## Exemplo 2) Filtrando strings que começam com uma letra específica\n",
    "\n",
    "Vamos filtrar uma lista de nomes para encontrar aqueles que começam com a letra \"A\"."
   ]
  },
  {
   "cell_type": "code",
   "execution_count": 9,
   "metadata": {},
   "outputs": [
    {
     "data": {
      "text/plain": [
       "['Ana', 'Amanda', 'Alice']"
      ]
     },
     "execution_count": 9,
     "metadata": {},
     "output_type": "execute_result"
    }
   ],
   "source": [
    "# Lista de nomes\n",
    "nomes = [\"Ana\", \"Bruno\", \"Amanda\", \"Carlos\", \"Alice\"]\n",
    "\n",
    "# filter(function, iterable)\n",
    "nomes_com_a = list(filter(lambda nome: nome.startswith('A'), nomes))\n",
    "nomes_com_a"
   ]
  },
  {
   "cell_type": "markdown",
   "metadata": {},
   "source": []
  },
  {
   "cell_type": "markdown",
   "metadata": {},
   "source": [
    "## Exemplo 3) Filtrando números maiores que um valor específico\n",
    "\n",
    "Neste exemplo, vamos filtrar números maiores que 5 de uma lista"
   ]
  },
  {
   "cell_type": "code",
   "execution_count": 20,
   "metadata": {},
   "outputs": [
    {
     "data": {
      "text/plain": [
       "[6, 7, 5, 18, 1, 12, 7, 18, 19, 10]"
      ]
     },
     "execution_count": 20,
     "metadata": {},
     "output_type": "execute_result"
    }
   ],
   "source": [
    "np.random.seed(40)\n",
    "numeros = list(np.random.randint(20, size=10))\n",
    "numeros"
   ]
  },
  {
   "cell_type": "code",
   "execution_count": 21,
   "metadata": {},
   "outputs": [
    {
     "data": {
      "text/plain": [
       "[6, 7, 18, 12, 7, 18, 19, 10]"
      ]
     },
     "execution_count": 21,
     "metadata": {},
     "output_type": "execute_result"
    }
   ],
   "source": [
    "# extraindo os numeros maiores do que 5\n",
    "maior_que_5 = list(filter(lambda num: num > 5, numeros))\n",
    "maior_que_5"
   ]
  },
  {
   "cell_type": "markdown",
   "metadata": {},
   "source": [
    "# Exercícios (15/09/2024)"
   ]
  },
  {
   "cell_type": "markdown",
   "metadata": {},
   "source": [
    "## Exercício 1) Filtrando Números Positivos\n",
    "\n",
    "Dada uma lista de números inteiros, use o filter() para retornar apenas os números positivos."
   ]
  },
  {
   "cell_type": "code",
   "execution_count": 27,
   "metadata": {},
   "outputs": [
    {
     "data": {
      "text/plain": [
       "[-10, -9, -8, -7, -6, -5, -4, -3, -2, -1, 0, 1, 2, 3, 4, 5, 6, 7, 8, 9]"
      ]
     },
     "execution_count": 27,
     "metadata": {},
     "output_type": "execute_result"
    }
   ],
   "source": [
    "numeros = list(np.arange(-10,10))\n",
    "numeros"
   ]
  },
  {
   "cell_type": "code",
   "execution_count": 30,
   "metadata": {},
   "outputs": [
    {
     "data": {
      "text/plain": [
       "[1, 2, 3, 4, 5, 6, 7, 8, 9]"
      ]
     },
     "execution_count": 30,
     "metadata": {},
     "output_type": "execute_result"
    }
   ],
   "source": [
    "positivos = list(filter(lambda num: num > 0, numeros))\n",
    "positivos"
   ]
  },
  {
   "cell_type": "markdown",
   "metadata": {},
   "source": [
    "## Exercício 2) Filtrando Palavras Longas\n",
    "\n",
    "Dada uma lista de palavras, use o filter() para retornar apenas as palavras que tenham mais de 5 letras."
   ]
  },
  {
   "cell_type": "code",
   "execution_count": 34,
   "metadata": {},
   "outputs": [
    {
     "data": {
      "text/plain": [
       "['Python', 'Ciência', 'Análise', 'Programação']"
      ]
     },
     "execution_count": 34,
     "metadata": {},
     "output_type": "execute_result"
    }
   ],
   "source": [
    "palavras = [\"Python\", \"Ciência\", \"Dados\", \"Análise\", \"Programação\"]\n",
    "\n",
    "palavras_longas = list(filter(lambda palavra: len(palavra) > 5, palavras))\n",
    "palavras_longas"
   ]
  },
  {
   "cell_type": "markdown",
   "metadata": {},
   "source": [
    "## Exercício 3) Filtrando Números Divisíveis por 3\n",
    "\n",
    "Dada uma lista de números inteiros, use o filter() para retornar apenas os números que são divisíveis por 3."
   ]
  },
  {
   "cell_type": "code",
   "execution_count": 40,
   "metadata": {},
   "outputs": [
    {
     "data": {
      "text/plain": [
       "[0, 1, 2, 3, 4, 5, 6, 7, 8, 9, 10, 11, 12, 13, 14, 15, 16, 17, 18, 19, 20]"
      ]
     },
     "execution_count": 40,
     "metadata": {},
     "output_type": "execute_result"
    }
   ],
   "source": [
    "numeros = list(np.arange(21))\n",
    "numeros"
   ]
  },
  {
   "cell_type": "code",
   "execution_count": 42,
   "metadata": {},
   "outputs": [
    {
     "data": {
      "text/plain": [
       "[0, 3, 6, 9, 12, 15, 18]"
      ]
     },
     "execution_count": 42,
     "metadata": {},
     "output_type": "execute_result"
    }
   ],
   "source": [
    "divisiveis_por_3 = list(filter(lambda num: num%3==0, numeros))\n",
    "divisiveis_por_3"
   ]
  }
 ],
 "metadata": {
  "kernelspec": {
   "display_name": "Python 3",
   "language": "python",
   "name": "python3"
  },
  "language_info": {
   "codemirror_mode": {
    "name": "ipython",
    "version": 3
   },
   "file_extension": ".py",
   "mimetype": "text/x-python",
   "name": "python",
   "nbconvert_exporter": "python",
   "pygments_lexer": "ipython3",
   "version": "3.11.1"
  }
 },
 "nbformat": 4,
 "nbformat_minor": 2
}
