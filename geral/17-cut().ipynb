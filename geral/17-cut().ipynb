{
 "cells": [
  {
   "cell_type": "markdown",
   "metadata": {},
   "source": [
    "# cut() - Definição"
   ]
  },
  {
   "cell_type": "markdown",
   "metadata": {},
   "source": [
    "Essa função divide valores em intervalos discretos. É útil quando precisamos segmentar e classificar dados em compartimentos. É útil também quando vamos de uma variável contínua para uma variável categórica. Por exemplo, este método poderia converter idades em grupos de idades.\n",
    "\n",
    "NÃO PULAR ETAPAS\n",
    "NÃO PULAR ETAPAS \n",
    "VOCÊ VAI CHEGAR LÁ\n",
    "RESILIÊNCIA\n",
    "RESILIÊNCIA"
   ]
  },
  {
   "cell_type": "markdown",
   "metadata": {},
   "source": [
    "# Sintaxe"
   ]
  },
  {
   "cell_type": "markdown",
   "metadata": {},
   "source": [
    "    pandas.cut(x, bins)\n",
    "\n",
    "* x: array de entrada a ser dividida em intervalos discretos\n",
    "\n",
    "* bins: inteiros, sequência de escalares ou intervalo de índices"
   ]
  },
  {
   "cell_type": "markdown",
   "metadata": {},
   "source": [
    "## Exemplos"
   ]
  },
  {
   "cell_type": "markdown",
   "metadata": {},
   "source": [
    "### Exemplo 1) Discretiza em três intervalos de mesmo tamanho"
   ]
  },
  {
   "cell_type": "code",
   "execution_count": 63,
   "metadata": {},
   "outputs": [
    {
     "data": {
      "text/plain": [
       "[(0.994, 3.0], (5.0, 7.0], (3.0, 5.0], (3.0, 5.0], (5.0, 7.0], (0.994, 3.0]]\n",
       "Categories (3, interval[float64, right]): [(0.994, 3.0] < (3.0, 5.0] < (5.0, 7.0]]"
      ]
     },
     "execution_count": 63,
     "metadata": {},
     "output_type": "execute_result"
    }
   ],
   "source": [
    "import numpy as np\n",
    "import pandas as pd\n",
    "\n",
    "pd.cut(np.array([1, 7, 5, 4, 6, 3]), 3)"
   ]
  },
  {
   "cell_type": "markdown",
   "metadata": {},
   "source": [
    "<u>Interpretando o resultado</u>\n",
    "\n",
    "* O valor 1 está entre (0.994, 3.0]\n",
    "* O valor 7 está entre (5.0, 7.0]\n",
    "* O valor 5 está entre (3.0, 5.0]\n",
    "\n",
    "..."
   ]
  },
  {
   "cell_type": "markdown",
   "metadata": {},
   "source": [
    "Podemos também personalizar os intervalos usando o parâmetro bins diretamente:"
   ]
  },
  {
   "cell_type": "code",
   "execution_count": 64,
   "metadata": {},
   "outputs": [
    {
     "data": {
      "text/plain": [
       "[(0, 3], (5, 7], (3, 5], (3, 5], (5, 7], (0, 3]]\n",
       "Categories (3, interval[int64, right]): [(0, 3] < (3, 5] < (5, 7]]"
      ]
     },
     "execution_count": 64,
     "metadata": {},
     "output_type": "execute_result"
    }
   ],
   "source": [
    "# Dividindo em intervalos personalizados\n",
    "pd.cut(np.array([1, 7, 5, 4, 6, 3]), bins=[0, 3, 5, 7])"
   ]
  },
  {
   "cell_type": "markdown",
   "metadata": {},
   "source": [
    "No exemplo acima, os intervalos foram definidos como [0, 3], [3, 5], [5, 7]"
   ]
  },
  {
   "cell_type": "markdown",
   "metadata": {},
   "source": [
    "### Exemplo 2) Atribuindo rótulos a bins"
   ]
  },
  {
   "cell_type": "code",
   "execution_count": 65,
   "metadata": {},
   "outputs": [
    {
     "data": {
      "text/plain": [
       "[(0.994, 3.0], (5.0, 7.0], (3.0, 5.0], (3.0, 5.0], (5.0, 7.0], (0.994, 3.0]]\n",
       "Categories (3, interval[float64, right]): [(0.994, 3.0] < (3.0, 5.0] < (5.0, 7.0]]"
      ]
     },
     "execution_count": 65,
     "metadata": {},
     "output_type": "execute_result"
    }
   ],
   "source": [
    "pd.cut(x=np.array([1, 7, 5, 4, 6, 3]), bins=3)"
   ]
  },
  {
   "cell_type": "code",
   "execution_count": 66,
   "metadata": {},
   "outputs": [
    {
     "data": {
      "text/plain": [
       "['bad', 'good', 'medium', 'medium', 'good', 'bad']\n",
       "Categories (3, object): ['bad' < 'medium' < 'good']"
      ]
     },
     "execution_count": 66,
     "metadata": {},
     "output_type": "execute_result"
    }
   ],
   "source": [
    "pd.cut(x=np.array([1, 7, 5, 4, 6, 3]), bins=3, labels=[\"bad\", \"medium\", \"good\"])"
   ]
  },
  {
   "cell_type": "markdown",
   "metadata": {},
   "source": [
    "# Exercício 1) Divisão em intervalos iguais\n",
    "\n",
    "Tarefa:\n",
    "\n",
    "1. Use o pd.cut para dividir os valores em 4 intervalos iguais.\n",
    "\n",
    "2. Exiba os intervalos categóricos e verifique em qual intervalo cada valor pertence."
   ]
  },
  {
   "cell_type": "code",
   "execution_count": 67,
   "metadata": {},
   "outputs": [],
   "source": [
    "valores = np.array([10, 20, 15, 35, 50, 45, 60])"
   ]
  },
  {
   "cell_type": "code",
   "execution_count": 68,
   "metadata": {},
   "outputs": [
    {
     "data": {
      "text/plain": [
       "[(9.95, 22.5], (9.95, 22.5], (9.95, 22.5], (22.5, 35.0], (47.5, 60.0], (35.0, 47.5], (47.5, 60.0]]\n",
       "Categories (4, interval[float64, right]): [(9.95, 22.5] < (22.5, 35.0] < (35.0, 47.5] < (47.5, 60.0]]"
      ]
     },
     "execution_count": 68,
     "metadata": {},
     "output_type": "execute_result"
    }
   ],
   "source": [
    "pd.cut(x=valores, bins=4)"
   ]
  },
  {
   "cell_type": "code",
   "execution_count": 69,
   "metadata": {},
   "outputs": [
    {
     "data": {
      "text/plain": [
       "IntervalIndex([(9.95, 22.5], (22.5, 35.0], (35.0, 47.5], (47.5, 60.0]], dtype='interval[float64, right]')"
      ]
     },
     "execution_count": 69,
     "metadata": {},
     "output_type": "execute_result"
    }
   ],
   "source": [
    "# exibindo os intervalos categóricos\n",
    "pd.cut(x=valores, bins=4).categories"
   ]
  },
  {
   "cell_type": "markdown",
   "metadata": {},
   "source": [
    "# Exercício 2) Intervalos Personalizados"
   ]
  },
  {
   "cell_type": "markdown",
   "metadata": {},
   "source": [
    "Tarefa:\n",
    "\n",
    "1. Divida as idades nos seguintes intervalos: [0-18], [19-35], [36-60], [61-80].\n",
    "\n",
    "2. Atribua os intervalos como rótulos (labels): Infância, Juventude, Adulto, Idoso.\n",
    "\n",
    "3. Exiba o resultado mostrando as idades e seus respectivos rótulos."
   ]
  },
  {
   "cell_type": "code",
   "execution_count": 70,
   "metadata": {},
   "outputs": [],
   "source": [
    "idades = np.array([12, 25, 30, 45, 50, 65, 75])"
   ]
  },
  {
   "cell_type": "code",
   "execution_count": 71,
   "metadata": {},
   "outputs": [
    {
     "data": {
      "text/plain": [
       "['Infância', 'Juventude', 'Juventude', 'Adulto', 'Adulto', 'Idoso', 'Idoso']\n",
       "Categories (4, object): ['Infância' < 'Juventude' < 'Adulto' < 'Idoso']"
      ]
     },
     "execution_count": 71,
     "metadata": {},
     "output_type": "execute_result"
    }
   ],
   "source": [
    "pd.cut(x=idades, bins=[0, 18, 35, 60, 80], labels=['Infância', 'Juventude', 'Adulto', 'Idoso'])"
   ]
  },
  {
   "cell_type": "code",
   "execution_count": 72,
   "metadata": {},
   "outputs": [
    {
     "data": {
      "text/plain": [
       "['Infância', 'Juventude', 'Juventude', 'Adulto', 'Adulto', 'Idoso', 'Idoso']\n",
       "Categories (4, object): ['Infância' < 'Juventude' < 'Adulto' < 'Idoso']"
      ]
     },
     "execution_count": 72,
     "metadata": {},
     "output_type": "execute_result"
    }
   ],
   "source": [
    "valores = pd.cut(x=idades, bins=[0, 18, 35, 60, 80], labels=['Infância', 'Juventude', 'Adulto', 'Idoso'])\n",
    "valores"
   ]
  },
  {
   "cell_type": "code",
   "execution_count": 73,
   "metadata": {},
   "outputs": [
    {
     "data": {
      "text/plain": [
       "['Infância', 'Juventude', 'Juventude', 'Adulto', 'Adulto', 'Idoso', 'Idoso']"
      ]
     },
     "execution_count": 73,
     "metadata": {},
     "output_type": "execute_result"
    }
   ],
   "source": [
    "# criando lista com as categorias para cada idade\n",
    "lista_rotulos = [i for i in valores]\n",
    "lista_rotulos"
   ]
  },
  {
   "cell_type": "code",
   "execution_count": 74,
   "metadata": {},
   "outputs": [
    {
     "data": {
      "text/plain": [
       "array([12, 25, 30, 45, 50, 65, 75])"
      ]
     },
     "execution_count": 74,
     "metadata": {},
     "output_type": "execute_result"
    }
   ],
   "source": [
    "idades"
   ]
  },
  {
   "cell_type": "code",
   "execution_count": 77,
   "metadata": {},
   "outputs": [
    {
     "data": {
      "text/html": [
       "<div>\n",
       "<style scoped>\n",
       "    .dataframe tbody tr th:only-of-type {\n",
       "        vertical-align: middle;\n",
       "    }\n",
       "\n",
       "    .dataframe tbody tr th {\n",
       "        vertical-align: top;\n",
       "    }\n",
       "\n",
       "    .dataframe thead th {\n",
       "        text-align: right;\n",
       "    }\n",
       "</style>\n",
       "<table border=\"1\" class=\"dataframe\">\n",
       "  <thead>\n",
       "    <tr style=\"text-align: right;\">\n",
       "      <th></th>\n",
       "      <th>Idade</th>\n",
       "      <th>Categoria</th>\n",
       "    </tr>\n",
       "  </thead>\n",
       "  <tbody>\n",
       "    <tr>\n",
       "      <th>0</th>\n",
       "      <td>12</td>\n",
       "      <td>Infância</td>\n",
       "    </tr>\n",
       "    <tr>\n",
       "      <th>1</th>\n",
       "      <td>25</td>\n",
       "      <td>Juventude</td>\n",
       "    </tr>\n",
       "    <tr>\n",
       "      <th>2</th>\n",
       "      <td>30</td>\n",
       "      <td>Juventude</td>\n",
       "    </tr>\n",
       "    <tr>\n",
       "      <th>3</th>\n",
       "      <td>45</td>\n",
       "      <td>Adulto</td>\n",
       "    </tr>\n",
       "    <tr>\n",
       "      <th>4</th>\n",
       "      <td>50</td>\n",
       "      <td>Adulto</td>\n",
       "    </tr>\n",
       "    <tr>\n",
       "      <th>5</th>\n",
       "      <td>65</td>\n",
       "      <td>Idoso</td>\n",
       "    </tr>\n",
       "    <tr>\n",
       "      <th>6</th>\n",
       "      <td>75</td>\n",
       "      <td>Idoso</td>\n",
       "    </tr>\n",
       "  </tbody>\n",
       "</table>\n",
       "</div>"
      ],
      "text/plain": [
       "   Idade  Categoria\n",
       "0     12   Infância\n",
       "1     25  Juventude\n",
       "2     30  Juventude\n",
       "3     45     Adulto\n",
       "4     50     Adulto\n",
       "5     65      Idoso\n",
       "6     75      Idoso"
      ]
     },
     "execution_count": 77,
     "metadata": {},
     "output_type": "execute_result"
    }
   ],
   "source": [
    "# mostrando as idades e seus respectivos rótulos\n",
    "dicionario = pd.DataFrame({'Idade': idades,\n",
    "              'Categoria': lista_rotulos})\n",
    "dicionario"
   ]
  },
  {
   "cell_type": "markdown",
   "metadata": {},
   "source": [
    "# Exercício 3) Avaliação por Faixa"
   ]
  },
  {
   "cell_type": "markdown",
   "metadata": {},
   "source": [
    "Tarefa:\n",
    "\n",
    "1. Divida as notas em 3 categorias: Reprovado, Recuperação, Aprovado.\n",
    "    * Reprovado: notas de 0 a 50.\n",
    "    * Recuperação: notas de 51 a 75.\n",
    "    * Aprovado: notas acima de 75.\n",
    "\n",
    "2. Use o pd.cut para criar essas categorias.\n",
    "\n",
    "3. Exiba as notas e suas respectivas classificações."
   ]
  },
  {
   "cell_type": "code",
   "execution_count": 80,
   "metadata": {},
   "outputs": [],
   "source": [
    "notas = np.array([50, 70, 85, 90, 40, 100, 65, 78])"
   ]
  },
  {
   "cell_type": "code",
   "execution_count": 84,
   "metadata": {},
   "outputs": [
    {
     "data": {
      "text/plain": [
       "['Reprovado', 'Recuperação', 'Aprovado', 'Aprovado', 'Reprovado', 'Aprovado', 'Recuperação', 'Aprovado']\n",
       "Categories (3, object): ['Reprovado' < 'Recuperação' < 'Aprovado']"
      ]
     },
     "execution_count": 84,
     "metadata": {},
     "output_type": "execute_result"
    }
   ],
   "source": [
    "valores = pd.cut(x=notas, bins=[0, 51, 76, 100], labels=['Reprovado', 'Recuperação', 'Aprovado'])\n",
    "valores"
   ]
  },
  {
   "cell_type": "code",
   "execution_count": 85,
   "metadata": {},
   "outputs": [
    {
     "data": {
      "text/plain": [
       "['Reprovado',\n",
       " 'Recuperação',\n",
       " 'Aprovado',\n",
       " 'Aprovado',\n",
       " 'Reprovado',\n",
       " 'Aprovado',\n",
       " 'Recuperação',\n",
       " 'Aprovado']"
      ]
     },
     "execution_count": 85,
     "metadata": {},
     "output_type": "execute_result"
    }
   ],
   "source": [
    "lista_rotulos = [i for i in valores]\n",
    "lista_rotulos"
   ]
  },
  {
   "cell_type": "code",
   "execution_count": 86,
   "metadata": {},
   "outputs": [
    {
     "data": {
      "text/plain": [
       "array([ 50,  70,  85,  90,  40, 100,  65,  78])"
      ]
     },
     "execution_count": 86,
     "metadata": {},
     "output_type": "execute_result"
    }
   ],
   "source": [
    "notas"
   ]
  },
  {
   "cell_type": "code",
   "execution_count": 87,
   "metadata": {},
   "outputs": [
    {
     "data": {
      "text/html": [
       "<div>\n",
       "<style scoped>\n",
       "    .dataframe tbody tr th:only-of-type {\n",
       "        vertical-align: middle;\n",
       "    }\n",
       "\n",
       "    .dataframe tbody tr th {\n",
       "        vertical-align: top;\n",
       "    }\n",
       "\n",
       "    .dataframe thead th {\n",
       "        text-align: right;\n",
       "    }\n",
       "</style>\n",
       "<table border=\"1\" class=\"dataframe\">\n",
       "  <thead>\n",
       "    <tr style=\"text-align: right;\">\n",
       "      <th></th>\n",
       "      <th>Nota</th>\n",
       "      <th>Situação</th>\n",
       "    </tr>\n",
       "  </thead>\n",
       "  <tbody>\n",
       "    <tr>\n",
       "      <th>0</th>\n",
       "      <td>50</td>\n",
       "      <td>Reprovado</td>\n",
       "    </tr>\n",
       "    <tr>\n",
       "      <th>1</th>\n",
       "      <td>70</td>\n",
       "      <td>Recuperação</td>\n",
       "    </tr>\n",
       "    <tr>\n",
       "      <th>2</th>\n",
       "      <td>85</td>\n",
       "      <td>Aprovado</td>\n",
       "    </tr>\n",
       "    <tr>\n",
       "      <th>3</th>\n",
       "      <td>90</td>\n",
       "      <td>Aprovado</td>\n",
       "    </tr>\n",
       "    <tr>\n",
       "      <th>4</th>\n",
       "      <td>40</td>\n",
       "      <td>Reprovado</td>\n",
       "    </tr>\n",
       "    <tr>\n",
       "      <th>5</th>\n",
       "      <td>100</td>\n",
       "      <td>Aprovado</td>\n",
       "    </tr>\n",
       "    <tr>\n",
       "      <th>6</th>\n",
       "      <td>65</td>\n",
       "      <td>Recuperação</td>\n",
       "    </tr>\n",
       "    <tr>\n",
       "      <th>7</th>\n",
       "      <td>78</td>\n",
       "      <td>Aprovado</td>\n",
       "    </tr>\n",
       "  </tbody>\n",
       "</table>\n",
       "</div>"
      ],
      "text/plain": [
       "   Nota     Situação\n",
       "0    50    Reprovado\n",
       "1    70  Recuperação\n",
       "2    85     Aprovado\n",
       "3    90     Aprovado\n",
       "4    40    Reprovado\n",
       "5   100     Aprovado\n",
       "6    65  Recuperação\n",
       "7    78     Aprovado"
      ]
     },
     "execution_count": 87,
     "metadata": {},
     "output_type": "execute_result"
    }
   ],
   "source": [
    "dicionario = pd.DataFrame({'Nota': notas,\n",
    "              'Situação': lista_rotulos})\n",
    "dicionario"
   ]
  }
 ],
 "metadata": {
  "kernelspec": {
   "display_name": "Python 3",
   "language": "python",
   "name": "python3"
  },
  "language_info": {
   "codemirror_mode": {
    "name": "ipython",
    "version": 3
   },
   "file_extension": ".py",
   "mimetype": "text/x-python",
   "name": "python",
   "nbconvert_exporter": "python",
   "pygments_lexer": "ipython3",
   "version": "3.11.1"
  }
 },
 "nbformat": 4,
 "nbformat_minor": 2
}
