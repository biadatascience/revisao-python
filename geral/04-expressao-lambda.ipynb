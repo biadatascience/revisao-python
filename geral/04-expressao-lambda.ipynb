{
 "cells": [
  {
   "cell_type": "markdown",
   "metadata": {},
   "source": [
    "# Expressão lambda\n",
    "\n",
    "Maneira rápida de criar funções anônimas em python (funções que não tem nome explícito). Geralmente são usadas para criar funções simples e curtas que não vamos precisar reutilizar várias vezes, tornando o código mais compacto.\n",
    "\n",
    "A sintaxe básica é: \n",
    "\n",
    "<u>lambda</u> argumentos: expressão\n",
    "\n",
    "* argumentos: parâmetros que a função vai receber (como em uma função normal)\n",
    "\n",
    "* expressão: o código que será executado e retornado (pode ser apenas uma única expressão)"
   ]
  },
  {
   "cell_type": "markdown",
   "metadata": {},
   "source": [
    "## Exemplo 1) Função lambda simples (soma de dois números)\n",
    "\n",
    "Este exemplo define uma função lambda que soma dois números."
   ]
  },
  {
   "cell_type": "code",
   "execution_count": 2,
   "metadata": {},
   "outputs": [
    {
     "data": {
      "text/plain": [
       "7"
      ]
     },
     "execution_count": 2,
     "metadata": {},
     "output_type": "execute_result"
    }
   ],
   "source": [
    "soma = lambda x,y: x + y\n",
    "soma(3,4)"
   ]
  },
  {
   "cell_type": "markdown",
   "metadata": {},
   "source": [
    "## Exemplo 2) Usando lambda com filter()\n",
    "\n",
    "A função lambda pode ser combinada com funções como filter() para filtrar elementos de uma lista com base em uma condição. Aqui, filtramos números pares de uma lista."
   ]
  },
  {
   "cell_type": "code",
   "execution_count": 12,
   "metadata": {},
   "outputs": [
    {
     "data": {
      "text/plain": [
       "[2, 4, 6, 8, 10]"
      ]
     },
     "execution_count": 12,
     "metadata": {},
     "output_type": "execute_result"
    }
   ],
   "source": [
    "import numpy as np\n",
    "\n",
    "numeros = list(np.arange(1,11))\n",
    "pares = list(filter(lambda x: x%2==0, numeros))\n",
    "pares"
   ]
  },
  {
   "cell_type": "markdown",
   "metadata": {},
   "source": [
    "## Exemplo 3) Usando lambda com map()\n",
    "\n",
    "Com map(), você pode aplicar uma função a todos os elementos de uma lista. Neste exemplo, a função lambda multiplica cada número da lista por 2."
   ]
  },
  {
   "cell_type": "code",
   "execution_count": 18,
   "metadata": {},
   "outputs": [
    {
     "data": {
      "text/plain": [
       "[2, 4, 6, 8, 10]"
      ]
     },
     "execution_count": 18,
     "metadata": {},
     "output_type": "execute_result"
    }
   ],
   "source": [
    "numeros = list(np.arange(1,6))\n",
    "dobrados = list(map(lambda x: 2*x, numeros))\n",
    "dobrados"
   ]
  },
  {
   "cell_type": "markdown",
   "metadata": {},
   "source": [
    "# Exercícios (14/09/2024)"
   ]
  },
  {
   "cell_type": "markdown",
   "metadata": {},
   "source": [
    "## Exercício 1) Função Lambda para calcular o quadrado de um número\n",
    "\n",
    "Crie uma função lambda que receba um número e retorne o quadrado desse número."
   ]
  },
  {
   "cell_type": "code",
   "execution_count": 22,
   "metadata": {},
   "outputs": [
    {
     "data": {
      "text/plain": [
       "64"
      ]
     },
     "execution_count": 22,
     "metadata": {},
     "output_type": "execute_result"
    }
   ],
   "source": [
    "quadrado = lambda x: x**2\n",
    "quadrado(8)"
   ]
  },
  {
   "cell_type": "markdown",
   "metadata": {},
   "source": [
    "## Exercício 2) Função Lambda para verificar se um número é divisível por 3\n",
    "\n",
    "Crie uma função lambda que receba um número e retorne True se ele for divisível por 3, e False caso contrário."
   ]
  },
  {
   "cell_type": "code",
   "execution_count": 27,
   "metadata": {},
   "outputs": [
    {
     "data": {
      "text/plain": [
       "False"
      ]
     },
     "execution_count": 27,
     "metadata": {},
     "output_type": "execute_result"
    }
   ],
   "source": [
    "divisivel_3 = lambda x: x%3==0\n",
    "divisivel_3(8)"
   ]
  },
  {
   "cell_type": "markdown",
   "metadata": {},
   "source": [
    "## Exercício 3) Função Lambda para retornar o maior de dois números\n",
    "\n",
    "Crie uma função lambda que receba dois números e retorne o maior deles."
   ]
  },
  {
   "cell_type": "code",
   "execution_count": 30,
   "metadata": {},
   "outputs": [
    {
     "data": {
      "text/plain": [
       "10"
      ]
     },
     "execution_count": 30,
     "metadata": {},
     "output_type": "execute_result"
    }
   ],
   "source": [
    "maior_num = lambda x,y: x if x > y else y\n",
    "maior_num(10,4)"
   ]
  }
 ],
 "metadata": {
  "kernelspec": {
   "display_name": "Python 3",
   "language": "python",
   "name": "python3"
  },
  "language_info": {
   "codemirror_mode": {
    "name": "ipython",
    "version": 3
   },
   "file_extension": ".py",
   "mimetype": "text/x-python",
   "name": "python",
   "nbconvert_exporter": "python",
   "pygments_lexer": "ipython3",
   "version": "3.11.1"
  }
 },
 "nbformat": 4,
 "nbformat_minor": 2
}
