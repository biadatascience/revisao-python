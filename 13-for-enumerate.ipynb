{
 "cells": [
  {
   "cell_type": "markdown",
   "metadata": {},
   "source": [
    "# Definição\n",
    "\n",
    "A função enumerate() é usada para gerar um par de valores para cada elemento de uma lista, tupla, string, ou qualquer estrutura iterável. Esse par de valores contém:\n",
    "\n",
    "1. O índice do elemento (ou seja, sua posição na estrutura),\n",
    "2. O valor do elemento em si.\n",
    "\n",
    "Com enumerate(), você consegue acessar o índice e o valor simultaneamente dentro de um loop for, sem precisar de passos adicionais.\n",
    "\n",
    "# Estrutura Geral\n",
    "\n",
    "A estrutura do enumerate() geralmente é assim:\n",
    "\n",
    "    for indice, valor in enumerate(iteravel):\n",
    "        # código a ser executado no loop\n",
    "\n",
    "* iteravel: É a estrutura que você está percorrendo, como uma lista, tupla, ou string.\n",
    "* indice: Guarda a posição de cada elemento na estrutura.\n",
    "* valor: Guarda o valor de cada elemento.\n",
    "\n",
    "# Como Funciona o enumerate()\n",
    "\n",
    "1. Quando chamamos enumerate(iteravel), ele cria uma sequência de pares (indice, valor), onde:\n",
    "\n",
    "    * indice é o número da posição do elemento na estrutura,\n",
    "    * valor é o elemento atual na estrutura.\n",
    "\n",
    "2. No loop for, podemos desempacotar esses pares (indice, valor) diretamente em duas variáveis, indice e valor, o que facilita o trabalho.\n",
    "\n"
   ]
  },
  {
   "cell_type": "markdown",
   "metadata": {},
   "source": [
    "# Exemplo 1) Lista de números"
   ]
  },
  {
   "cell_type": "code",
   "execution_count": 1,
   "metadata": {},
   "outputs": [
    {
     "name": "stdout",
     "output_type": "stream",
     "text": [
      "Índice: 0, Valor: 10\n",
      "Índice: 1, Valor: 20\n",
      "Índice: 2, Valor: 30\n",
      "Índice: 3, Valor: 40\n"
     ]
    }
   ],
   "source": [
    "numeros = [10, 20, 30, 40]\n",
    "\n",
    "for i, num in enumerate(numeros):\n",
    "    print(f'Índice: {i}, Valor: {num}')"
   ]
  },
  {
   "cell_type": "markdown",
   "metadata": {},
   "source": [
    "# Vantagens de Usar enumerate()\n",
    "\n",
    "* <u>Código mais limpo</u>: Em vez de usar um índice separado com range(len(iteravel)) e depois acessar o valor com iteravel[indice], o enumerate() faz isso em uma única linha.\n",
    "\n",
    "* <u>Desempacotamento direto</u>: Com for i, valor in enumerate(iteravel), obtemos diretamente o índice e o valor, o que torna o código mais legível e claro.\n",
    "\n",
    "* <u>Versatilidade</u>: Funciona com qualquer iterável, então podemos usá-lo com listas, strings, dicionários (nas chaves ou valores), e até mesmo com geradores."
   ]
  },
  {
   "cell_type": "markdown",
   "metadata": {},
   "source": [
    "# Exemplo 2) Comparação\n",
    "\n",
    "Para ver a diferença, vamos comparar um loop com enumerate() e um sem ele:"
   ]
  },
  {
   "cell_type": "markdown",
   "metadata": {},
   "source": [
    "## Sem enumerate()"
   ]
  },
  {
   "cell_type": "code",
   "execution_count": 2,
   "metadata": {},
   "outputs": [
    {
     "name": "stdout",
     "output_type": "stream",
     "text": [
      "Índice: 0, Valor: a\n",
      "Índice: 1, Valor: b\n",
      "Índice: 2, Valor: c\n"
     ]
    }
   ],
   "source": [
    "lista = ['a', 'b', 'c']\n",
    "\n",
    "for i in range(len(lista)):\n",
    "    print(f'Índice: {i}, Valor: {lista[i]}')"
   ]
  },
  {
   "cell_type": "markdown",
   "metadata": {},
   "source": [
    "## Com enumerate()"
   ]
  },
  {
   "cell_type": "code",
   "execution_count": 3,
   "metadata": {},
   "outputs": [
    {
     "name": "stdout",
     "output_type": "stream",
     "text": [
      "Índice: 0, Valor: a\n",
      "Índice: 1, Valor: b\n",
      "Índice: 2, Valor: c\n"
     ]
    }
   ],
   "source": [
    "for i, valor in enumerate(lista):\n",
    "    print(f'Índice: {i}, Valor: {valor}')"
   ]
  }
 ],
 "metadata": {
  "kernelspec": {
   "display_name": "Python 3",
   "language": "python",
   "name": "python3"
  },
  "language_info": {
   "codemirror_mode": {
    "name": "ipython",
    "version": 3
   },
   "file_extension": ".py",
   "mimetype": "text/x-python",
   "name": "python",
   "nbconvert_exporter": "python",
   "pygments_lexer": "ipython3",
   "version": "3.11.1"
  }
 },
 "nbformat": 4,
 "nbformat_minor": 2
}
