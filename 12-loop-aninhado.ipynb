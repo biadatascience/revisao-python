{
 "cells": [
  {
   "cell_type": "markdown",
   "metadata": {},
   "source": [
    "Link chatGPT: https://chatgpt.com/c/6705bfb3-e858-8002-a2cc-1a8ae0fc9121"
   ]
  },
  {
   "cell_type": "markdown",
   "metadata": {},
   "source": [
    "# Definição\n",
    "\n",
    "Para cada iteração do loop externo, o loop interno será executado completamente. Loops aninhados são úteis quando precisamos trabalhar com dados em duas dimensões, como matrizes, ou quando precisamos fazer comparações entre elementos.\n",
    "\n",
    "<u>Sintexe básica</u>\n",
    "\n",
    "    for item1 in coleção1:\n",
    "        for item2 in coleção2:\n",
    "\n",
    "Isso significa que o loop interno vai rodar uma vez para cada valor do loop externo.\n"
   ]
  },
  {
   "cell_type": "markdown",
   "metadata": {},
   "source": [
    "# Exemplo 1) Imprimindo uma matriz\n",
    "\n",
    "Vamos criar uma matriz (lista de listas) e usar loops aninhados para imprimir cada elemento:"
   ]
  },
  {
   "cell_type": "code",
   "execution_count": 2,
   "metadata": {},
   "outputs": [],
   "source": [
    "# Matriz 3x3\n",
    "matriz = [\n",
    "    [1, 2, 3],\n",
    "    [4, 5, 6],\n",
    "    [7, 8, 9]\n",
    "]"
   ]
  },
  {
   "cell_type": "code",
   "execution_count": null,
   "metadata": {},
   "outputs": [
    {
     "data": {
      "text/plain": [
       "[1, 2, 3]"
      ]
     },
     "execution_count": 7,
     "metadata": {},
     "output_type": "execute_result"
    }
   ],
   "source": [
    "# acessando a primeira lista da matriz\n",
    "matriz[0]"
   ]
  },
  {
   "cell_type": "code",
   "execution_count": 9,
   "metadata": {},
   "outputs": [
    {
     "data": {
      "text/plain": [
       "1"
      ]
     },
     "execution_count": 9,
     "metadata": {},
     "output_type": "execute_result"
    }
   ],
   "source": [
    "# acessando o primeiro elemento da primeira lista da matriz\n",
    "matriz[0][0]"
   ]
  },
  {
   "cell_type": "code",
   "execution_count": null,
   "metadata": {},
   "outputs": [
    {
     "name": "stdout",
     "output_type": "stream",
     "text": [
      "1 2 3 \n",
      "4 5 6 \n",
      "7 8 9 \n"
     ]
    }
   ],
   "source": [
    "# Loop aninhado para percorrer a matriz\n",
    "for linha in matriz:    # percorre cada linha da matriz\n",
    "    for elemento in linha:  # percorre cada elemento da linha da matriz, dada uma linha específica \n",
    "        print(elemento, end=\" \")\n",
    "    print()  # Nova linha para formatar a saída"
   ]
  },
  {
   "cell_type": "markdown",
   "metadata": {},
   "source": [
    "Funcionamento do loop aninhado acima:\n",
    "\n",
    "1. Pega a primeira linha da matriz\n",
    "2. Imprime cada elemento da primeira linha\n",
    "3. Pega a segunda linha da matriz\n",
    "4. Imprime cada elemento da segunda linha \n",
    "5. Pega a terceira linha da matriz\n",
    "6. Imprime cada elemento da terceira linha \n",
    "\n",
    "Quando o loop interno termina, o print() fora do loop interno adiciona uma nova linha (quebra de linha)"
   ]
  },
  {
   "cell_type": "markdown",
   "metadata": {},
   "source": [
    "<b>Resumo da Ordem dos Loops</b>\n",
    "\n",
    "* O loop externo percorre cada lista (linha) dentro da matriz.\n",
    "* Para cada linha, o loop interno percorre cada elemento, imprimindo-o seguido de um espaço.\n",
    "* O print() fora do loop interno adiciona uma quebra de linha para separar as linhas."
   ]
  },
  {
   "cell_type": "markdown",
   "metadata": {},
   "source": [
    "# Exemplo 2: Tabela de Multiplicação\n",
    "\n",
    "A tabela de multiplicação é uma ferramenta prática que ajuda a encontrar rapidamente o resultado de multiplicações entre números inteiros. É especialmente útil para aprender as multiplicações básicas e é frequentemente usada para simplificar cálculos.\n",
    "\n",
    "<b>Estrutura da Tabela de Multiplicação</b>\n",
    "\n",
    "A tabela de multiplicação mais comum vai do número 1 até 10 ou 12. Ela é organizada em linhas e colunas, onde:\n",
    "\n",
    "* As linhas representam um dos fatores (o primeiro número na multiplicação).\n",
    "* As colunas representam o outro fator (o segundo número na multiplicação).\n",
    "* O ponto de interseção entre a linha e a coluna fornece o produto dos dois números."
   ]
  },
  {
   "cell_type": "markdown",
   "metadata": {},
   "source": [
    "Aqui está um exemplo para gerar uma tabela de multiplicação usando loops aninhados:"
   ]
  },
  {
   "cell_type": "code",
   "execution_count": 17,
   "metadata": {},
   "outputs": [
    {
     "name": "stdout",
     "output_type": "stream",
     "text": [
      "1\t2\t3\t4\t5\t\n",
      "2\t4\t6\t8\t10\t\n",
      "3\t6\t9\t12\t15\t\n",
      "4\t8\t12\t16\t20\t\n",
      "5\t10\t15\t20\t25\t\n"
     ]
    }
   ],
   "source": [
    "# Loop externo para multiplicador\n",
    "for i in range(1, 6):\n",
    "    # Loop interno para multiplicando\n",
    "    for j in range(1, 6):\n",
    "        print(i * j, end=\"\\t\")\n",
    "    print()  # Nova linha para cada linha da tabela"
   ]
  },
  {
   "cell_type": "markdown",
   "metadata": {},
   "source": [
    "# Exemplo 3: Comparando Elementos de Duas Listas\n",
    "\n",
    "Vamos usar loops aninhados para comparar todos os elementos de duas listas:"
   ]
  },
  {
   "cell_type": "code",
   "execution_count": null,
   "metadata": {},
   "outputs": [
    {
     "name": "stdout",
     "output_type": "stream",
     "text": [
      "Soma de 1 e 4 é 5\n",
      "Soma de 1 e 5 é 6\n",
      "Soma de 1 e 6 é 7\n",
      "Soma de 2 e 4 é 6\n",
      "Soma de 2 e 5 é 7\n",
      "Soma de 2 e 6 é 8\n",
      "Soma de 3 e 4 é 7\n",
      "Soma de 3 e 5 é 8\n",
      "Soma de 3 e 6 é 9\n"
     ]
    }
   ],
   "source": [
    "lista1 = [1, 2, 3]\n",
    "lista2 = [4, 5, 6]\n",
    "\n",
    "for item1 in lista1:\n",
    "    for item2 in lista2:    \n",
    "        print(f\"Soma de {item1} e {item2} é {item1 + item2}\")"
   ]
  },
  {
   "cell_type": "markdown",
   "metadata": {},
   "source": [
    "# Exercícios fáceis"
   ]
  },
  {
   "cell_type": "markdown",
   "metadata": {},
   "source": [
    "## Exercício 1: Tabela de Multiplicação Simples\n",
    "\n",
    "Crie um programa que exiba uma tabela de multiplicação de 1 a 5 usando loops aninhados."
   ]
  },
  {
   "cell_type": "code",
   "execution_count": 22,
   "metadata": {},
   "outputs": [
    {
     "name": "stdout",
     "output_type": "stream",
     "text": [
      "1\t2\t3\t4\t5\t\n",
      "2\t4\t6\t8\t10\t\n",
      "3\t6\t9\t12\t15\t\n",
      "4\t8\t12\t16\t20\t\n",
      "5\t10\t15\t20\t25\t\n"
     ]
    }
   ],
   "source": [
    "for i in range(1,6):\n",
    "    for j in range(1,6):\n",
    "        print(i * j, end=\"\\t\")\n",
    "    print()"
   ]
  },
  {
   "cell_type": "markdown",
   "metadata": {},
   "source": [
    "# Exercício 2) Quadrado com Asteriscos\n",
    "\n",
    "Escreva um programa que desenhe um quadrado 3x3 usando o caractere \"*\". Use loops aninhados para gerar as linhas e colunas."
   ]
  },
  {
   "cell_type": "code",
   "execution_count": 25,
   "metadata": {},
   "outputs": [
    {
     "name": "stdout",
     "output_type": "stream",
     "text": [
      "*\t*\t*\t\n",
      "*\t*\t*\t\n",
      "*\t*\t*\t\n"
     ]
    }
   ],
   "source": [
    "for i in range(1,4):\n",
    "    for j in range(1,4):\n",
    "        print('*', end=\"\\t\")\n",
    "    print()"
   ]
  },
  {
   "cell_type": "markdown",
   "metadata": {},
   "source": [
    "# Exercício 3) Contagem Crescente em Linhas\n",
    "\n",
    "Faça um programa que exiba uma contagem crescente em três linhas, onde cada linha contém números de 1 a 5. Use um loop externo para as linhas e um loop interno para os números."
   ]
  },
  {
   "cell_type": "code",
   "execution_count": 4,
   "metadata": {},
   "outputs": [
    {
     "name": "stdout",
     "output_type": "stream",
     "text": [
      "1\t2\t3\t4\t5\t\n",
      "1\t2\t3\t4\t5\t\n",
      "1\t2\t3\t4\t5\t\n"
     ]
    }
   ],
   "source": [
    "for i in range(0,3):\n",
    "    for j in range(0,5):\n",
    "        print(j+1, end=\"\\t\")\n",
    "    print()"
   ]
  },
  {
   "cell_type": "markdown",
   "metadata": {},
   "source": [
    "# Exercícios contextualizados"
   ]
  },
  {
   "cell_type": "markdown",
   "metadata": {},
   "source": [
    "## Exercício 1) Inventário de Frutas na Feira\n",
    "\n",
    "Você é responsável pelo inventário de frutas em uma feira que tem várias barracas. Cada barraca tem três tipos de frutas: maçãs, bananas e laranjas. Você precisa mostrar a quantidade de cada fruta em cada barraca.\n",
    "\n",
    "1. Crie uma lista com as barracas (por exemplo: \"Barraca 1\", \"Barraca 2\", etc.).\n",
    "2. Em cada barraca, crie uma lista com quantidades fictícias para cada tipo de fruta.\n",
    "3. Use um loop aninhado para exibir a quantidade de cada fruta por barraca."
   ]
  },
  {
   "cell_type": "code",
   "execution_count": 11,
   "metadata": {},
   "outputs": [],
   "source": [
    "lista_barracas = ['Barraca 1', 'Barraca 2', 'Barraca 3']\n",
    "lista_frutas = ['Banana', 'Maçã', 'Uva']\n",
    "qtd_frutas = [\n",
    "    [12, 15, 16],   #quantidade de bananas nas barracas\n",
    "    [20, 30, 16],   #quantidade de maçãs nas barracas\n",
    "    [25, 16, 9]     #quantidade de uvas nas barracas\n",
    "]"
   ]
  },
  {
   "cell_type": "code",
   "execution_count": 12,
   "metadata": {},
   "outputs": [
    {
     "name": "stdout",
     "output_type": "stream",
     "text": [
      "Barraca 1:\n",
      "Banana - 12\n",
      "Maçã - 20\n",
      "Uva - 25\n",
      "\n",
      "Barraca 2:\n",
      "Banana - 15\n",
      "Maçã - 30\n",
      "Uva - 16\n",
      "\n",
      "Barraca 3:\n",
      "Banana - 16\n",
      "Maçã - 16\n",
      "Uva - 9\n",
      "\n"
     ]
    }
   ],
   "source": [
    "# Exibindo o inventário com loops aninhados\n",
    "for i, barraca in enumerate(lista_barracas):  # Loop externo para cada barraca\n",
    "    print(f\"{barraca}:\")\n",
    "    for j, fruta in enumerate(lista_frutas):  # Loop interno para cada fruta\n",
    "        print(f\"{fruta} - {qtd_frutas[j][i]}\")\n",
    "    print()  # Linha em branco para separar as barracas"
   ]
  }
 ],
 "metadata": {
  "kernelspec": {
   "display_name": "Python 3",
   "language": "python",
   "name": "python3"
  },
  "language_info": {
   "codemirror_mode": {
    "name": "ipython",
    "version": 3
   },
   "file_extension": ".py",
   "mimetype": "text/x-python",
   "name": "python",
   "nbconvert_exporter": "python",
   "pygments_lexer": "ipython3",
   "version": "3.11.1"
  }
 },
 "nbformat": 4,
 "nbformat_minor": 2
}
