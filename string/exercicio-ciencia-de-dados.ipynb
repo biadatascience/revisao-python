{
 "cells": [
  {
   "cell_type": "markdown",
   "metadata": {},
   "source": [
    "# Exercício 1) Limpeza de Dados de Notas de Clientes\n",
    "\n",
    "Pedi para o chat construir um exercício que envolvesse ciência dados e que eu pudesse resolver em 25 minutos (https://chatgpt.com/c/672e4913-d33c-8002-abff-22be91a76d5e)\n",
    "\n",
    "Você recebeu um conjunto de dados com avaliações de clientes sobre um produto. No entanto, algumas dessas avaliações contêm caracteres indesejados, como \"!\", \"#\", \"@\" e \"*\".\n",
    "\n",
    "Seu objetivo é processar as avaliações e limpar esses caracteres especiais.\n",
    "\n",
    "📌 Tarefa:\n",
    "\n",
    "1. Remova os caracteres \"!\", \"#\", \"@\" e \"*\" das avaliações.\n",
    "2. Verifique se a avaliação contém apenas letras e espaços após a limpeza.\n",
    "3. Se a avaliação for válida (contém apenas letras e espaços), mantenha-a; caso contrário, substitua-a por \"Inválido\".\n",
    "\n",
    "<b>Exemplo de entrada</b>"
   ]
  },
  {
   "cell_type": "code",
   "execution_count": 48,
   "metadata": {},
   "outputs": [],
   "source": [
    "avaliacoes = [\n",
    "    \"Ótimo produto!!!\", \n",
    "    \"Péssimo! Nunca mais compro!@#\",\n",
    "    \"Muito bom*\", \n",
    "    \"Razoável... mas poderia ser melhor!\",\n",
    "    \"10/10, recomendo!!\"\n",
    "]"
   ]
  },
  {
   "cell_type": "markdown",
   "metadata": {},
   "source": [
    "<b>Saída esperada</b>"
   ]
  },
  {
   "cell_type": "code",
   "execution_count": 49,
   "metadata": {},
   "outputs": [
    {
     "data": {
      "text/plain": [
       "['Ótimo produto', 'Inválido', 'Muito bom', 'Inválido', 'Inválido']"
      ]
     },
     "execution_count": 49,
     "metadata": {},
     "output_type": "execute_result"
    }
   ],
   "source": [
    "[\n",
    "    \"Ótimo produto\", \n",
    "    \"Inválido\", \n",
    "    \"Muito bom\", \n",
    "    \"Inválido\", \n",
    "    \"Inválido\"\n",
    "]"
   ]
  },
  {
   "cell_type": "markdown",
   "metadata": {},
   "source": [
    "## Solução exercício 1"
   ]
  },
  {
   "cell_type": "markdown",
   "metadata": {},
   "source": [
    "1. Removendo os caracteres \"!\", \"#\", \"@\" e \"*\" das avaliações."
   ]
  },
  {
   "cell_type": "code",
   "execution_count": 52,
   "metadata": {},
   "outputs": [],
   "source": [
    "def remove_caracteres(avaliacoes: list, caracteres_indesejados: str):\n",
    "    avaliacoes_limpas = [\"\".join(caractere for caractere in avaliacao if caractere not in caracteres_indesejados) for avaliacao in avaliacoes]\n",
    "    return avaliacoes_limpas"
   ]
  },
  {
   "cell_type": "code",
   "execution_count": 55,
   "metadata": {},
   "outputs": [
    {
     "data": {
      "text/plain": [
       "['Ótimo produto',\n",
       " 'Péssimo Nunca mais compro',\n",
       " 'Muito bom',\n",
       " 'Razoável... mas poderia ser melhor',\n",
       " '10/10, recomendo']"
      ]
     },
     "execution_count": 55,
     "metadata": {},
     "output_type": "execute_result"
    }
   ],
   "source": [
    "remove_caracteres(avaliacoes=avaliacoes, caracteres_indesejados='!#@*')"
   ]
  }
 ],
 "metadata": {
  "kernelspec": {
   "display_name": "Python 3",
   "language": "python",
   "name": "python3"
  },
  "language_info": {
   "codemirror_mode": {
    "name": "ipython",
    "version": 3
   },
   "file_extension": ".py",
   "mimetype": "text/x-python",
   "name": "python",
   "nbconvert_exporter": "python",
   "pygments_lexer": "ipython3",
   "version": "3.11.1"
  }
 },
 "nbformat": 4,
 "nbformat_minor": 2
}
