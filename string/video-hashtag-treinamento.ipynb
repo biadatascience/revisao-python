{
 "cells": [
  {
   "cell_type": "markdown",
   "metadata": {},
   "source": [
    "Link do vídeo: https://www.youtube.com/watch?v=wkgMmszyuMk"
   ]
  },
  {
   "cell_type": "code",
   "execution_count": 1,
   "metadata": {},
   "outputs": [],
   "source": [
    "variavel1 = 54\n",
    "variavel2 = 54.0\n",
    "variavelstr = 'Olá'"
   ]
  },
  {
   "cell_type": "code",
   "execution_count": 3,
   "metadata": {},
   "outputs": [
    {
     "name": "stdout",
     "output_type": "stream",
     "text": [
      "<class 'int'>\n",
      "<class 'float'>\n",
      "<class 'str'>\n"
     ]
    }
   ],
   "source": [
    "print(type(variavel1))\n",
    "print(type(variavel2))\n",
    "print(type(variavelstr))"
   ]
  },
  {
   "cell_type": "code",
   "execution_count": 5,
   "metadata": {},
   "outputs": [
    {
     "data": {
      "text/plain": [
       "'dxniel'"
      ]
     },
     "execution_count": 5,
     "metadata": {},
     "output_type": "execute_result"
    }
   ],
   "source": [
    "nome = 'daniel'\n",
    "novo_nome = nome.replace('a', 'x')\n",
    "novo_nome"
   ]
  },
  {
   "cell_type": "code",
   "execution_count": 7,
   "metadata": {},
   "outputs": [
    {
     "data": {
      "text/plain": [
       "'Dxniel Candiotto'"
      ]
     },
     "execution_count": 7,
     "metadata": {},
     "output_type": "execute_result"
    }
   ],
   "source": [
    "# fazendo a substituição apenas do primeiro 'a'\n",
    "nome = 'Daniel Candiotto'\n",
    "novo_nome = nome.replace('a', 'x', 1)\n",
    "novo_nome"
   ]
  },
  {
   "cell_type": "code",
   "execution_count": 11,
   "metadata": {},
   "outputs": [
    {
     "data": {
      "text/plain": [
       "'Daniel Candiotto'"
      ]
     },
     "execution_count": 11,
     "metadata": {},
     "output_type": "execute_result"
    }
   ],
   "source": [
    "nome = 'Daniel'\n",
    "sobrenome = 'Candiotto'\n",
    "\n",
    "nome_completo = nome + ' ' + sobrenome\n",
    "nome_completo"
   ]
  },
  {
   "cell_type": "code",
   "execution_count": 13,
   "metadata": {},
   "outputs": [
    {
     "name": "stdout",
     "output_type": "stream",
     "text": [
      "True\n"
     ]
    }
   ],
   "source": [
    "cpf = '11122233344'\n",
    "# verifica se a string é totalmente numérica\n",
    "print(cpf.isnumeric())"
   ]
  },
  {
   "cell_type": "code",
   "execution_count": 14,
   "metadata": {},
   "outputs": [
    {
     "name": "stdout",
     "output_type": "stream",
     "text": [
      "False\n"
     ]
    }
   ],
   "source": [
    "cpf = '1112a233344'\n",
    "# verifica se a string é totalmente numérica\n",
    "print(cpf.isnumeric())"
   ]
  },
  {
   "cell_type": "code",
   "execution_count": 24,
   "metadata": {},
   "outputs": [
    {
     "name": "stdout",
     "output_type": "stream",
     "text": [
      "False\n",
      "True\n"
     ]
    }
   ],
   "source": [
    "# verifica se a string é totalmente alfanumérica, ou seja, só tem letras\n",
    "cpf = '1112a233344'\n",
    "print(cpf.isalpha())\n",
    "\n",
    "sequencia = 'fsdfagj'\n",
    "print(sequencia.isalpha())"
   ]
  },
  {
   "cell_type": "code",
   "execution_count": 25,
   "metadata": {},
   "outputs": [
    {
     "data": {
      "text/plain": [
       "True"
      ]
     },
     "execution_count": 25,
     "metadata": {},
     "output_type": "execute_result"
    }
   ],
   "source": [
    "# união do isalhpa() com o isnumeric(). Verifica é é numérico ou alfanumérico\n",
    "sequencia.isalnum()"
   ]
  },
  {
   "cell_type": "code",
   "execution_count": 26,
   "metadata": {},
   "outputs": [
    {
     "data": {
      "text/plain": [
       "False"
      ]
     },
     "execution_count": 26,
     "metadata": {},
     "output_type": "execute_result"
    }
   ],
   "source": [
    "sequencia2 = '1234123-----3123$'\n",
    "sequencia2.isalnum()"
   ]
  },
  {
   "cell_type": "code",
   "execution_count": 30,
   "metadata": {},
   "outputs": [
    {
     "name": "stdout",
     "output_type": "stream",
     "text": [
      "True\n",
      "True\n"
     ]
    }
   ],
   "source": [
    "# verifica se todas as letras são maiúsculas\n",
    "nome = 'DANIEL'\n",
    "print(nome.isupper())\n",
    "\n",
    "# verifica se todas as letras são minúsculas\n",
    "nome = 'daniel'\n",
    "print(nome.islower())"
   ]
  },
  {
   "cell_type": "code",
   "execution_count": 34,
   "metadata": {},
   "outputs": [
    {
     "name": "stdout",
     "output_type": "stream",
     "text": [
      "7\n"
     ]
    }
   ],
   "source": [
    "# procurando um pedaço de texto dentro de uma string\n",
    "# retorna o índice do primeiro caractere\n",
    "nome = 'Daniel Candiotto'\n",
    "print(nome.find('C'))"
   ]
  },
  {
   "cell_type": "code",
   "execution_count": 41,
   "metadata": {},
   "outputs": [
    {
     "name": "stdout",
     "output_type": "stream",
     "text": [
      "-1\n"
     ]
    }
   ],
   "source": [
    "# o -1 é retornado quando o Python não encontra o caractere indicado\n",
    "nome = 'Daniel Candiotto'\n",
    "print(nome.find('X'))"
   ]
  },
  {
   "cell_type": "markdown",
   "metadata": {},
   "source": [
    "Toda string é uma lista, por isso conseguimos iterar sobre seus elementos:"
   ]
  },
  {
   "cell_type": "code",
   "execution_count": 44,
   "metadata": {},
   "outputs": [
    {
     "name": "stdout",
     "output_type": "stream",
     "text": [
      "s\n"
     ]
    }
   ],
   "source": [
    "nome = 'Hashtag Treinamentos'\n",
    "print(nome[2])"
   ]
  },
  {
   "cell_type": "code",
   "execution_count": 45,
   "metadata": {},
   "outputs": [
    {
     "name": "stdout",
     "output_type": "stream",
     "text": [
      "Hash\n"
     ]
    }
   ],
   "source": [
    "print(nome[0:4])"
   ]
  },
  {
   "cell_type": "code",
   "execution_count": 47,
   "metadata": {},
   "outputs": [
    {
     "name": "stdout",
     "output_type": "stream",
     "text": [
      "H\n",
      "a\n",
      "s\n",
      "h\n",
      "t\n",
      "a\n",
      "g\n",
      " \n",
      "T\n",
      "r\n",
      "e\n",
      "i\n",
      "n\n",
      "a\n",
      "m\n",
      "e\n",
      "n\n",
      "t\n",
      "o\n",
      "s\n"
     ]
    }
   ],
   "source": [
    "# printando todas as letras da variável 'nome'\n",
    "for letra in nome:\n",
    "    print(letra)"
   ]
  },
  {
   "cell_type": "code",
   "execution_count": 53,
   "metadata": {},
   "outputs": [
    {
     "data": {
      "text/plain": [
       "['Hashtag', 'Treinamentos']"
      ]
     },
     "execution_count": 53,
     "metadata": {},
     "output_type": "execute_result"
    }
   ],
   "source": [
    "# divide as palavras para cada espaço que encontrar, por padrão\n",
    "nome = 'Hashtag Treinamentos'\n",
    "palavras = nome.split(sep=' ')\n",
    "palavras"
   ]
  },
  {
   "cell_type": "code",
   "execution_count": 54,
   "metadata": {},
   "outputs": [
    {
     "data": {
      "text/plain": [
       "['eu', ' você']"
      ]
     },
     "execution_count": 54,
     "metadata": {},
     "output_type": "execute_result"
    }
   ],
   "source": [
    "# divide as palavras para cada espaço que encontrar, por padrão\n",
    "frase = 'eu, você'\n",
    "palavras = frase.split(sep=',')\n",
    "palavras"
   ]
  },
  {
   "cell_type": "markdown",
   "metadata": {},
   "source": [
    "Agora vamos tratar alguns e-mails"
   ]
  },
  {
   "cell_type": "code",
   "execution_count": 59,
   "metadata": {},
   "outputs": [
    {
     "name": "stdout",
     "output_type": "stream",
     "text": [
      "daniel@email.com\n",
      "joao@email.com\n",
      "candiotto@email.com\n",
      "marcus@email.com\n",
      "diego@email.com\n",
      "paulo@email.com\n",
      "alon@email.com\n",
      "minhamae@email.com\n",
      "alguem@email.com\n",
      "ninguem@email.com\n",
      "fulano@email.com\n",
      "beltrano@email.com\n"
     ]
    }
   ],
   "source": [
    "import io\n",
    "\n",
    "with io.open(\"Texto.txt\", \"r\") as t:\n",
    "    texto = t.read()\n",
    "\n",
    "print(texto)"
   ]
  },
  {
   "cell_type": "code",
   "execution_count": 61,
   "metadata": {},
   "outputs": [
    {
     "data": {
      "text/plain": [
       "str"
      ]
     },
     "execution_count": 61,
     "metadata": {},
     "output_type": "execute_result"
    }
   ],
   "source": [
    "# ele reconhece todos os e-mails como uma grande string, não conseguimos acessar e-mail a e-mail\n",
    "type(texto)"
   ]
  },
  {
   "cell_type": "code",
   "execution_count": 62,
   "metadata": {},
   "outputs": [
    {
     "data": {
      "text/plain": [
       "'d'"
      ]
     },
     "execution_count": 62,
     "metadata": {},
     "output_type": "execute_result"
    }
   ],
   "source": [
    "# verificando o que foi dito acima\n",
    "texto[0]"
   ]
  },
  {
   "cell_type": "code",
   "execution_count": 63,
   "metadata": {},
   "outputs": [
    {
     "name": "stdout",
     "output_type": "stream",
     "text": [
      "['daniel@email.com\\n', 'joao@email.com\\n', 'candiotto@email.com\\n', 'marcus@email.com\\n', 'diego@email.com\\n', 'paulo@email.com\\n', 'alon@email.com\\n', 'minhamae@email.com\\n', 'alguem@email.com\\n', 'ninguem@email.com\\n', 'fulano@email.com\\n', 'beltrano@email.com']\n"
     ]
    }
   ],
   "source": [
    "import io\n",
    "\n",
    "with io.open(\"Texto.txt\", \"r\") as t:\n",
    "    linhas = t.readlines()\n",
    "\n",
    "print(linhas)"
   ]
  },
  {
   "cell_type": "code",
   "execution_count": 66,
   "metadata": {},
   "outputs": [
    {
     "data": {
      "text/plain": [
       "['daniel@email.com',\n",
       " 'joao@email.com',\n",
       " 'candiotto@email.com',\n",
       " 'marcus@email.com',\n",
       " 'diego@email.com',\n",
       " 'paulo@email.com',\n",
       " 'alon@email.com',\n",
       " 'minhamae@email.com',\n",
       " 'alguem@email.com',\n",
       " 'ninguem@email.com',\n",
       " 'fulano@email.com',\n",
       " 'beltrano@email.com']"
      ]
     },
     "execution_count": 66,
     "metadata": {},
     "output_type": "execute_result"
    }
   ],
   "source": [
    "emails = texto.split(sep='\\n')\n",
    "emails"
   ]
  },
  {
   "cell_type": "code",
   "execution_count": 68,
   "metadata": {},
   "outputs": [
    {
     "data": {
      "text/plain": [
       "'daniel@email.com'"
      ]
     },
     "execution_count": 68,
     "metadata": {},
     "output_type": "execute_result"
    }
   ],
   "source": [
    "emails[0]"
   ]
  },
  {
   "cell_type": "code",
   "execution_count": 71,
   "metadata": {},
   "outputs": [
    {
     "data": {
      "text/plain": [
       "'daniel'"
      ]
     },
     "execution_count": 71,
     "metadata": {},
     "output_type": "execute_result"
    }
   ],
   "source": [
    "# extraindo apenas o nome do primeiro e-mail\n",
    "posicao = emails[0].find('@')\n",
    "\n",
    "emails[0][:6]"
   ]
  },
  {
   "cell_type": "markdown",
   "metadata": {},
   "source": [
    "# Usando .format()"
   ]
  },
  {
   "cell_type": "code",
   "execution_count": 74,
   "metadata": {},
   "outputs": [
    {
     "name": "stdout",
     "output_type": "stream",
     "text": [
      "<class 'int'>\n",
      "<class 'int'>\n"
     ]
    }
   ],
   "source": [
    "nota1 = 4\n",
    "nota2 = 10\n",
    "media = (nota1 + nota2)/2\n",
    "print(type(nota1))\n",
    "print(type(nota2))"
   ]
  },
  {
   "cell_type": "code",
   "execution_count": 76,
   "metadata": {},
   "outputs": [
    {
     "name": "stdout",
     "output_type": "stream",
     "text": [
      "A média do Daniel foi de 7.0\n"
     ]
    }
   ],
   "source": [
    "print('A média do Daniel foi de {}'.format(media))\n"
   ]
  },
  {
   "cell_type": "code",
   "execution_count": 77,
   "metadata": {},
   "outputs": [
    {
     "name": "stdout",
     "output_type": "stream",
     "text": [
      "A nota 1 foi de 4 e a nota 2 foi de 10. A média do Daniel foi de 7.0\n"
     ]
    }
   ],
   "source": [
    "print('A nota 1 foi de {} e a nota 2 foi de {}. A média do Daniel foi de {}'.format(nota1, nota2, media))"
   ]
  },
  {
   "cell_type": "markdown",
   "metadata": {},
   "source": [
    "Dá para usar o 'f também"
   ]
  },
  {
   "cell_type": "code",
   "execution_count": 78,
   "metadata": {},
   "outputs": [
    {
     "name": "stdout",
     "output_type": "stream",
     "text": [
      "A nota 1 foi de 4 e a nota 2 foi de 10. A média do Daniel foi de 7.0\n"
     ]
    }
   ],
   "source": [
    "print(f'A nota 1 foi de {nota1} e a nota 2 foi de {nota2}. A média do Daniel foi de {media}')"
   ]
  }
 ],
 "metadata": {
  "kernelspec": {
   "display_name": "Python 3",
   "language": "python",
   "name": "python3"
  },
  "language_info": {
   "codemirror_mode": {
    "name": "ipython",
    "version": 3
   },
   "file_extension": ".py",
   "mimetype": "text/x-python",
   "name": "python",
   "nbconvert_exporter": "python",
   "pygments_lexer": "ipython3",
   "version": "3.11.1"
  }
 },
 "nbformat": 4,
 "nbformat_minor": 2
}
