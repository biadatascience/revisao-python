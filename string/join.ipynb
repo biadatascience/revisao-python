{
 "cells": [
  {
   "cell_type": "markdown",
   "metadata": {},
   "source": [
    "# Definição e Uso"
   ]
  },
  {
   "cell_type": "markdown",
   "metadata": {},
   "source": [
    "O join() é um método do Python que pega todos os ítens de um iterável e os junta em uma só string"
   ]
  },
  {
   "cell_type": "markdown",
   "metadata": {
    "vscode": {
     "languageId": "plaintext"
    }
   },
   "source": [
    "## Exemplo 1) Usando tuple\n",
    "\n",
    "Junte todos os ítens de uma tupla em uma string, usando o caractere '#' como separador"
   ]
  },
  {
   "cell_type": "code",
   "execution_count": 2,
   "metadata": {},
   "outputs": [
    {
     "data": {
      "text/plain": [
       "'John#Peter#Vicky'"
      ]
     },
     "execution_count": 2,
     "metadata": {},
     "output_type": "execute_result"
    }
   ],
   "source": [
    "myTuple = (\"John\", \"Peter\", \"Vicky\")\n",
    "\n",
    "x = '#'.join(myTuple)\n",
    "x"
   ]
  },
  {
   "cell_type": "markdown",
   "metadata": {},
   "source": [
    "## Exemplo 2) Usando dicionário\n",
    "\n",
    "Junte todos os ítens de um dicionário em uma string, usando a palavra 'TEST' como separador"
   ]
  },
  {
   "cell_type": "code",
   "execution_count": 3,
   "metadata": {},
   "outputs": [
    {
     "data": {
      "text/plain": [
       "'nameTESTcountry'"
      ]
     },
     "execution_count": 3,
     "metadata": {},
     "output_type": "execute_result"
    }
   ],
   "source": [
    "myDict = {\"name\": \"John\", \"country\": \"Norway\"}\n",
    "\n",
    "\"TEST\".join(myDict)"
   ]
  },
  {
   "cell_type": "markdown",
   "metadata": {},
   "source": [
    "** Ao usar um dicionário como iterável, os valores retornados são as chaves e não os valores."
   ]
  }
 ],
 "metadata": {
  "kernelspec": {
   "display_name": "Python 3",
   "language": "python",
   "name": "python3"
  },
  "language_info": {
   "codemirror_mode": {
    "name": "ipython",
    "version": 3
   },
   "file_extension": ".py",
   "mimetype": "text/x-python",
   "name": "python",
   "nbconvert_exporter": "python",
   "pygments_lexer": "ipython3",
   "version": "3.11.1"
  }
 },
 "nbformat": 4,
 "nbformat_minor": 2
}
