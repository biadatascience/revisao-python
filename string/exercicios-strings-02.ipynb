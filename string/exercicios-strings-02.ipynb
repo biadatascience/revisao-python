{
 "cells": [
  {
   "cell_type": "markdown",
   "metadata": {},
   "source": [
    "Link chatGPT: https://chatgpt.com/c/672e4913-d33c-8002-abff-22be91a76d5e\n",
    "\n",
    "Após ter resolvido exercícios básicos sobre strings (exercicios-video-hashtag-treinamentos.ipynb), pedi para o chat construir exercícios um pouco mais elaborados sobre strings."
   ]
  },
  {
   "cell_type": "markdown",
   "metadata": {},
   "source": [
    "# Exercício 1) Formatação de Texto\n",
    "\n",
    "Você recebeu uma lista de nomes onde alguns estão em letras maiúsculas, outros minúsculas e outros misturados. Seu objetivo é formatar todos para que comecem com letra maiúscula e o restante em minúsculas."
   ]
  },
  {
   "cell_type": "code",
   "execution_count": 3,
   "metadata": {},
   "outputs": [],
   "source": [
    "nomes = [\"aNnA\", \"PEDRO\", \"mARIA\", \"joÃo\"]"
   ]
  },
  {
   "cell_type": "code",
   "execution_count": 5,
   "metadata": {},
   "outputs": [
    {
     "data": {
      "text/plain": [
       "['Anna', 'Pedro', 'Maria', 'João']"
      ]
     },
     "execution_count": 5,
     "metadata": {},
     "output_type": "execute_result"
    }
   ],
   "source": [
    "[nome.capitalize() for nome in nomes]"
   ]
  },
  {
   "cell_type": "markdown",
   "metadata": {},
   "source": [
    "# Exercício 2) Identificação de Código\n",
    "\n",
    "Dado um código de produto, verifique se ele segue o formato correto:\n",
    "\n",
    "* Começa com três letras maiúsculas\n",
    "* Seguido de quatro números\n",
    "* Termina com um caractere especial (#, @ ou !)"
   ]
  },
  {
   "cell_type": "code",
   "execution_count": 7,
   "metadata": {},
   "outputs": [],
   "source": [
    "codigos = [\"ABC1234@\", \"xyz9876!\", \"A1234@\", \"XYZ12345@\", \"XYZ1234A\"]"
   ]
  },
  {
   "cell_type": "code",
   "execution_count": 23,
   "metadata": {},
   "outputs": [],
   "source": [
    "import re"
   ]
  },
  {
   "cell_type": "code",
   "execution_count": 29,
   "metadata": {},
   "outputs": [
    {
     "data": {
      "text/plain": [
       "[True, False, False, False, False]"
      ]
     },
     "execution_count": 29,
     "metadata": {},
     "output_type": "execute_result"
    }
   ],
   "source": [
    "padrao = r\"^[A-Z]{3}[0-9]{4}[#@!]$\"\n",
    "\n",
    "resultados = [bool(re.fullmatch(padrao, codigo)) for codigo in codigos]\n",
    "resultados"
   ]
  },
  {
   "cell_type": "markdown",
   "metadata": {},
   "source": [
    "# Exercício 3) Extração de Domínios de E-mail\n",
    "\n",
    "Dada uma lista de e-mails, extraia apenas os domínios (parte após o @)"
   ]
  },
  {
   "cell_type": "code",
   "execution_count": null,
   "metadata": {},
   "outputs": [
    {
     "data": {
      "text/plain": [
       "['gmail.com', 'yahoo.com', 'outlook.com']"
      ]
     },
     "execution_count": 31,
     "metadata": {},
     "output_type": "execute_result"
    }
   ],
   "source": [
    "emails = [\"ana@gmail.com\", \"joao@yahoo.com\", \"maria@outlook.com\"]\n",
    "\n",
    "\n",
    "[email.split('@')[1] for email in emails]"
   ]
  },
  {
   "cell_type": "markdown",
   "metadata": {},
   "source": [
    "# Exercício 4) Contagem de Palavras Específicas\n",
    "\n",
    "Dada uma frase, conte quantas vezes uma palavra específica aparece. Considere que a busca não deve diferenciar maiúsculas de minúsculas.\n",
    "\n",
    "Exemplo:\n",
    "\n",
    "frase = \"O gato preto pulou sobre o outro gato preto.\"\n",
    "palavra = \"gato\"\n",
    "\n",
    "Saída esperada: 2"
   ]
  },
  {
   "cell_type": "code",
   "execution_count": 43,
   "metadata": {},
   "outputs": [],
   "source": [
    "frase = \"O gato preto pulou sobre o outro gato preto.\"\n",
    "palavra = \"Gato\""
   ]
  },
  {
   "cell_type": "code",
   "execution_count": 44,
   "metadata": {},
   "outputs": [],
   "source": [
    "# para considerar que a busca não diferencie letras maiúsculas de minúsculas\n",
    "frase = frase.lower()\n",
    "palavra = palavra.lower()"
   ]
  },
  {
   "cell_type": "code",
   "execution_count": 45,
   "metadata": {},
   "outputs": [
    {
     "data": {
      "text/plain": [
       "2"
      ]
     },
     "execution_count": 45,
     "metadata": {},
     "output_type": "execute_result"
    }
   ],
   "source": [
    "frase.count(palavra)"
   ]
  },
  {
   "cell_type": "markdown",
   "metadata": {},
   "source": [
    "# Exercício 5) Censura de Palavras\n",
    "\n",
    "Escreva um programa que substitua palavras proibidas por ***.\n",
    "\n",
    "Exemplo:\n",
    "\n",
    "texto = \"O cliente ficou muito bravo e disse uma palavra feia!\"\n",
    "palavras_proibidas = [\"bravo\", \"feia\"]\n",
    "\n",
    "Saída:\n",
    "\n",
    "\"O cliente ficou muito *** e disse uma palavra ***!\""
   ]
  },
  {
   "cell_type": "code",
   "execution_count": 58,
   "metadata": {},
   "outputs": [],
   "source": [
    "texto = \"O cliente ficou muito bravo e disse uma palavra feia!\"\n",
    "palavras_proibidas = [\"bravo\", \"feia\"]"
   ]
  },
  {
   "cell_type": "code",
   "execution_count": 63,
   "metadata": {},
   "outputs": [
    {
     "data": {
      "text/plain": [
       "'O cliente ficou muito *** e disse uma palavra feia!'"
      ]
     },
     "execution_count": 63,
     "metadata": {},
     "output_type": "execute_result"
    }
   ],
   "source": [
    "' '.join(['***' if palavra == 'bravo' or palavra == 'feia' else palavra for palavra in texto.split()])"
   ]
  }
 ],
 "metadata": {
  "kernelspec": {
   "display_name": "Python 3",
   "language": "python",
   "name": "python3"
  },
  "language_info": {
   "codemirror_mode": {
    "name": "ipython",
    "version": 3
   },
   "file_extension": ".py",
   "mimetype": "text/x-python",
   "name": "python",
   "nbconvert_exporter": "python",
   "pygments_lexer": "ipython3",
   "version": "3.11.1"
  }
 },
 "nbformat": 4,
 "nbformat_minor": 2
}
