{
 "cells": [
  {
   "cell_type": "markdown",
   "metadata": {},
   "source": [
    "Pedi para o nosso lindo chatzinho formular exercícios sobre os temas vistos no vídeo da hashtag (https://www.youtube.com/watch?v=wkgMmszyuMk) (https://chatgpt.com/c/672e4913-d33c-8002-abff-22be91a76d5e)."
   ]
  },
  {
   "cell_type": "markdown",
   "metadata": {},
   "source": [
    "# Exercício 1) Substituição de palavras\n",
    "\n",
    "Dada a string \"Olá, mundo! Seja bem-vindo ao mundo da programação.\", substitua a palavra \"mundo\" por \"Python\" usando replace()"
   ]
  },
  {
   "cell_type": "code",
   "execution_count": 5,
   "metadata": {},
   "outputs": [
    {
     "data": {
      "text/plain": [
       "'Olá, Python! Seja bem-vindo ao mundo da programação.'"
      ]
     },
     "execution_count": 5,
     "metadata": {},
     "output_type": "execute_result"
    }
   ],
   "source": [
    "frase = 'Olá, mundo! Seja bem-vindo ao mundo da programação.'\n",
    "frase.replace('mundo', 'Python', 1) # substituindo apenas a primeira ocorrência"
   ]
  },
  {
   "cell_type": "markdown",
   "metadata": {},
   "source": [
    "# Exercício 2) Verificação de números\n",
    "\n",
    "Escreva uma função que recebe uma string e retorna True se ela contiver apenas números (isnumeric()), caso contrário, retorna False"
   ]
  },
  {
   "cell_type": "code",
   "execution_count": 10,
   "metadata": {},
   "outputs": [],
   "source": [
    "def verifica_numeric(string: str):\n",
    "    \"\"\"\n",
    "    Verifica se a string contém apenas caracteres numéricos\n",
    "\n",
    "    Args:\n",
    "        string (str): a string que será verificada\n",
    "\n",
    "    Returns:\n",
    "        bool: Retorna True se a string contiver apenas caracteres numéricos, False caso contrário\n",
    "    \"\"\"\n",
    "    return string.isnumeric()"
   ]
  },
  {
   "cell_type": "code",
   "execution_count": 13,
   "metadata": {},
   "outputs": [
    {
     "data": {
      "text/plain": [
       "True"
      ]
     },
     "execution_count": 13,
     "metadata": {},
     "output_type": "execute_result"
    }
   ],
   "source": [
    "verifica_numeric('1536846840')"
   ]
  },
  {
   "cell_type": "code",
   "execution_count": 14,
   "metadata": {},
   "outputs": [
    {
     "data": {
      "text/plain": [
       "False"
      ]
     },
     "execution_count": 14,
     "metadata": {},
     "output_type": "execute_result"
    }
   ],
   "source": [
    "verifica_numeric('alpg')"
   ]
  },
  {
   "cell_type": "markdown",
   "metadata": {},
   "source": [
    "# Exercício 3) Verificação de letras e caracteres alfanuméricos\n",
    "\n",
    "* Crie um código que peça ao usuário para digitar um nome e verifique se ele contém apenas letras (isalpha()).\n",
    "\n",
    "* Faça o mesmo para verificar se uma senha contém apenas caracteres alfanuméricos (isalnum())."
   ]
  },
  {
   "cell_type": "code",
   "execution_count": 19,
   "metadata": {},
   "outputs": [
    {
     "name": "stdout",
     "output_type": "stream",
     "text": [
      "O nome BIa1 não contém apenas letras\n"
     ]
    }
   ],
   "source": [
    "nome = str(input('Digite um nome: '))\n",
    "\n",
    "if nome.isalpha():\n",
    "    print(f'O nome {nome} contém apenas letras')\n",
    "else:\n",
    "    print(f'O nome {nome} não contém apenas letras')"
   ]
  },
  {
   "cell_type": "markdown",
   "metadata": {},
   "source": [
    "# Exercício 4) Maiúsculas e minúsculas\n",
    "\n",
    "Peça ao usuário para digitar uma palavra e verifique se ela está toda em maiúsculas (isupper()) ou toda em minúsculas (islower())."
   ]
  },
  {
   "cell_type": "code",
   "execution_count": 24,
   "metadata": {},
   "outputs": [
    {
     "name": "stdout",
     "output_type": "stream",
     "text": [
      "A palavra BIA está toda em toda em maiúscula\n"
     ]
    }
   ],
   "source": [
    "palavra = str(input('Digite uma palavra: '))\n",
    "\n",
    "if palavra.isupper():\n",
    "    print(f'A palavra {palavra} está toda em toda em maiúscula')\n",
    "elif palavra.islower():\n",
    "    print(f'A palavra {palavra} está toda em minúscula')\n",
    "else:\n",
    "    print(f'A palavra {palavra} não está nem toda em maiúscula, nem toda em minúscula')"
   ]
  },
  {
   "cell_type": "markdown",
   "metadata": {},
   "source": [
    "# Exercício 5) Localizando substrings\n",
    "\n",
    "* Dada a string \"A prática leva à perfeição\", encontre a posição da palavra \"perfeição\" usando find().\n",
    "\n",
    "* Tente procurar uma palavra que não existe na string e veja qual resultado find() retorna."
   ]
  },
  {
   "cell_type": "code",
   "execution_count": 26,
   "metadata": {},
   "outputs": [
    {
     "data": {
      "text/plain": [
       "17"
      ]
     },
     "execution_count": 26,
     "metadata": {},
     "output_type": "execute_result"
    }
   ],
   "source": [
    "frase = 'A prática leva à perfeição'\n",
    "frase.find('perfeição')"
   ]
  },
  {
   "cell_type": "code",
   "execution_count": 27,
   "metadata": {},
   "outputs": [
    {
     "data": {
      "text/plain": [
       "-1"
      ]
     },
     "execution_count": 27,
     "metadata": {},
     "output_type": "execute_result"
    }
   ],
   "source": [
    "frase.find('bia')"
   ]
  },
  {
   "cell_type": "markdown",
   "metadata": {},
   "source": [
    "# Exercício 6) Fatiamento de strings\n",
    "\n",
    "Dada a string \"Programação\", obtenha:\n",
    "\n",
    "1. Os três primeiros caracteres\n",
    "2. Os três últimos caracteres\n",
    "3. Os caracteres nas posições ímpares"
   ]
  },
  {
   "cell_type": "code",
   "execution_count": 28,
   "metadata": {},
   "outputs": [],
   "source": [
    "string = 'Programação'"
   ]
  },
  {
   "cell_type": "code",
   "execution_count": 40,
   "metadata": {},
   "outputs": [
    {
     "data": {
      "text/plain": [
       "'Pro'"
      ]
     },
     "execution_count": 40,
     "metadata": {},
     "output_type": "execute_result"
    }
   ],
   "source": [
    "string[:3] # três primeiros caracteres"
   ]
  },
  {
   "cell_type": "code",
   "execution_count": 38,
   "metadata": {},
   "outputs": [
    {
     "data": {
      "text/plain": [
       "'ção'"
      ]
     },
     "execution_count": 38,
     "metadata": {},
     "output_type": "execute_result"
    }
   ],
   "source": [
    "string[-3:]\n",
    "\n",
    "# O índice -3 aponta para o terceiro caractere contado de trás para frente.\n",
    "# O : indica que queremos todos os caracteres até o final."
   ]
  },
  {
   "cell_type": "code",
   "execution_count": 41,
   "metadata": {},
   "outputs": [
    {
     "data": {
      "text/plain": [
       "'Pormço'"
      ]
     },
     "execution_count": 41,
     "metadata": {},
     "output_type": "execute_result"
    }
   ],
   "source": [
    "string[::2] # posições ímpares (1, 3, 5, 7, 9, 11)"
   ]
  },
  {
   "cell_type": "markdown",
   "metadata": {},
   "source": [
    "# Exercício 7) Dividindo strings\n",
    "\n",
    "Dada a string \"banana, maçã, laranja, uva\", divida-a em uma lista de frutas usando split()"
   ]
  },
  {
   "cell_type": "code",
   "execution_count": 44,
   "metadata": {},
   "outputs": [
    {
     "data": {
      "text/plain": [
       "['banana,', 'maçã,', 'laranja,', 'uva']"
      ]
     },
     "execution_count": 44,
     "metadata": {},
     "output_type": "execute_result"
    }
   ],
   "source": [
    "string = 'banana, maçã, laranja, uva'\n",
    "string.split(sep= ' ')"
   ]
  },
  {
   "cell_type": "markdown",
   "metadata": {},
   "source": [
    "# Exercício 8) Formatando strings\n",
    "\n",
    "Use format() para gerar uma mensagem como:"
   ]
  },
  {
   "cell_type": "code",
   "execution_count": 45,
   "metadata": {},
   "outputs": [
    {
     "name": "stdout",
     "output_type": "stream",
     "text": [
      "Meu nome é Bia e eu tenho 25 anos.\n"
     ]
    }
   ],
   "source": [
    "nome = \"Bia\"\n",
    "idade = 25\n",
    "print(\"Meu nome é {} e eu tenho {} anos.\".format(nome, idade))"
   ]
  },
  {
   "cell_type": "code",
   "execution_count": 46,
   "metadata": {},
   "outputs": [
    {
     "name": "stdout",
     "output_type": "stream",
     "text": [
      "Se nome é Bia e você tem 26 anos\n"
     ]
    }
   ],
   "source": [
    "nome = str(input('Digite seu nome: '))\n",
    "idade = int(input('Digite sua idade: '))\n",
    "\n",
    "print(\"Se nome é {} e você tem {} anos\".format(nome, idade))"
   ]
  }
 ],
 "metadata": {
  "kernelspec": {
   "display_name": "Python 3",
   "language": "python",
   "name": "python3"
  },
  "language_info": {
   "codemirror_mode": {
    "name": "ipython",
    "version": 3
   },
   "file_extension": ".py",
   "mimetype": "text/x-python",
   "name": "python",
   "nbconvert_exporter": "python",
   "pygments_lexer": "ipython3",
   "version": "3.11.1"
  }
 },
 "nbformat": 4,
 "nbformat_minor": 2
}
