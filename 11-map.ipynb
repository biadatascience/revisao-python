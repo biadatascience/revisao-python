{
 "cells": [
  {
   "cell_type": "markdown",
   "metadata": {},
   "source": [
    "# map()\n",
    "\n",
    "## Definição\n",
    "\n",
    "Trata-se de uma função embutida no Python que aplica uma determinada função a todos os itens de um iterable (como listas, tuplas, etc.) e retorna um map object, que é um iterador. Podemos usar map() para transformar ou modificar os elementos de um iterable sem precisar escrever um loop explícito.\n",
    "\n",
    "## Sintaxe\n",
    "\n",
    "    map(function, iterable)\n",
    "\n",
    "* function: A função que você deseja aplicar aos elementos do iterable. Essa função pode ser uma função definida pelo usuário ou uma função embutida.\n",
    "\n",
    "* iterable: Um ou mais iterables (listas, tuplas, etc.) que você deseja mapear."
   ]
  },
  {
   "cell_type": "markdown",
   "metadata": {},
   "source": [
    "# Exemplo 1) Usando uma função simples\n",
    "\n",
    "Exemplo básico usando map() com uma função que eleva cada número ao quadrado:"
   ]
  },
  {
   "cell_type": "code",
   "execution_count": 1,
   "metadata": {},
   "outputs": [
    {
     "data": {
      "text/plain": [
       "[1, 4, 9, 16, 25]"
      ]
     },
     "execution_count": 1,
     "metadata": {},
     "output_type": "execute_result"
    }
   ],
   "source": [
    "# definindo uma função que eleva um número ao quadrado\n",
    "def quadrado(x):\n",
    "    return x**2\n",
    "\n",
    "# definindo lista de números\n",
    "lista = [1,2,3,4,5]\n",
    "\n",
    "# elevando cada número da lista ao quadrado usando map()\n",
    "resultado = list(map(quadrado, lista))\n",
    "\n",
    "resultado"
   ]
  },
  {
   "cell_type": "markdown",
   "metadata": {},
   "source": [
    "# Exemplo 2) Usando uma Função Lambda\n",
    "\n",
    "Você também pode usar uma função lambda diretamente dentro do map(), o que torna o código mais conciso. Vamos fazer o mesmo exercício do exemplo 1, mas utilizando a função map() e expressão lambda"
   ]
  },
  {
   "cell_type": "code",
   "execution_count": 2,
   "metadata": {},
   "outputs": [
    {
     "data": {
      "text/plain": [
       "[1, 2, 3, 4, 5]"
      ]
     },
     "execution_count": 2,
     "metadata": {},
     "output_type": "execute_result"
    }
   ],
   "source": [
    "lista"
   ]
  },
  {
   "cell_type": "code",
   "execution_count": 3,
   "metadata": {},
   "outputs": [
    {
     "data": {
      "text/plain": [
       "[1, 4, 9, 16, 25]"
      ]
     },
     "execution_count": 3,
     "metadata": {},
     "output_type": "execute_result"
    }
   ],
   "source": [
    "resultado02 = list(map(lambda x: x**2, lista))\n",
    "resultado02"
   ]
  },
  {
   "cell_type": "markdown",
   "metadata": {},
   "source": [
    "# Exemplo 3) Múltiplos Iterables\n",
    "\n",
    "A função map() pode receber múltiplos iterables. Neste caso, a função aplicada deve aceitar o mesmo número de argumentos."
   ]
  },
  {
   "cell_type": "code",
   "execution_count": 4,
   "metadata": {},
   "outputs": [
    {
     "data": {
      "text/plain": [
       "[5, 7, 9]"
      ]
     },
     "execution_count": 4,
     "metadata": {},
     "output_type": "execute_result"
    }
   ],
   "source": [
    "# vamos criar duas listas\n",
    "lista1 = [1,2,3]\n",
    "lista2 = [4,5,6]\n",
    "\n",
    "# usando map para somar elementos correspondentes\n",
    "resultado03 = list(map(lambda x, y: x + y, lista1, lista2))\n",
    "\n",
    "resultado03"
   ]
  },
  {
   "cell_type": "markdown",
   "metadata": {},
   "source": [
    "# Exercício 1) Elevar ao cubo\n",
    "\n",
    "Crie uma lista de números inteiros de 1 a 10. Use a função map() para criar uma nova lista que contenha o cubo de cada número."
   ]
  },
  {
   "cell_type": "code",
   "execution_count": 5,
   "metadata": {},
   "outputs": [
    {
     "data": {
      "text/plain": [
       "[1, 8, 27, 64, 125, 216, 343, 512, 729, 1000]"
      ]
     },
     "execution_count": 5,
     "metadata": {},
     "output_type": "execute_result"
    }
   ],
   "source": [
    "import numpy as np\n",
    "\n",
    "lista3 = np.arange(1, 11).tolist()\n",
    "\n",
    "cubo = list(map(lambda x: x**3, lista3))\n",
    "cubo"
   ]
  },
  {
   "cell_type": "markdown",
   "metadata": {},
   "source": [
    "# Exercício 2: Converter Celsius para Fahrenheit\n",
    "\n",
    "Crie uma lista com temperaturas em graus Celsius. Use map() para converter essas temperaturas para Fahrenheit, utilizando a fórmula: \n",
    "$F = \\frac{9}{5}C + 32$"
   ]
  },
  {
   "cell_type": "code",
   "execution_count": 7,
   "metadata": {},
   "outputs": [
    {
     "data": {
      "text/plain": [
       "[50.0, 68.0, 86.0, 104.0]"
      ]
     },
     "execution_count": 7,
     "metadata": {},
     "output_type": "execute_result"
    }
   ],
   "source": [
    "lista4 = [10,20,30,40]\n",
    "\n",
    "resultado04 = list(map(lambda x: (9/5)*x + 32, lista4))\n",
    "resultado04"
   ]
  },
  {
   "cell_type": "markdown",
   "metadata": {},
   "source": [
    "# Exercício 3: Calcular o Comprimento das Palavras\n",
    "\n",
    "Dada uma lista de palavras, use map() para criar uma nova lista que contenha o comprimento de cada palavra."
   ]
  },
  {
   "cell_type": "code",
   "execution_count": 9,
   "metadata": {},
   "outputs": [
    {
     "data": {
      "text/plain": [
       "[3, 6, 4]"
      ]
     },
     "execution_count": 9,
     "metadata": {},
     "output_type": "execute_result"
    }
   ],
   "source": [
    "lista5 = ['Bia', 'Ti Bia', 'Jobs']\n",
    "\n",
    "resultado05 = list(map(lambda x: len(x), lista5))\n",
    "resultado05"
   ]
  },
  {
   "cell_type": "markdown",
   "metadata": {},
   "source": [
    "# Exercício 4: Formatar Nomes\n",
    "\n",
    "Dada uma lista de nomes em minúsculas, use map() para criar uma nova lista onde cada nome começa com a letra maiúscula (capitalize)."
   ]
  },
  {
   "cell_type": "code",
   "execution_count": 16,
   "metadata": {},
   "outputs": [
    {
     "data": {
      "text/plain": [
       "['Bia', 'Ti bia', 'Jobs']"
      ]
     },
     "execution_count": 16,
     "metadata": {},
     "output_type": "execute_result"
    }
   ],
   "source": [
    "lista6 = ['bia', 'ti Bia', 'jobs']\n",
    "\n",
    "resultado06 = list(map(lambda x: x.capitalize(), lista6))\n",
    "resultado06"
   ]
  },
  {
   "cell_type": "markdown",
   "metadata": {},
   "source": [
    "# Exercício 5: Multiplicar Correspondentemente\n",
    "\n",
    "Dadas duas listas de números, use map() para multiplicar cada elemento da primeira lista pelo elemento correspondente da segunda lista. Por exemplo, se as listas forem [1, 2, 3] e [4, 5, 6], o resultado deve ser [4, 10, 18]."
   ]
  },
  {
   "cell_type": "code",
   "execution_count": 17,
   "metadata": {},
   "outputs": [
    {
     "data": {
      "text/plain": [
       "[4, 10, 18]"
      ]
     },
     "execution_count": 17,
     "metadata": {},
     "output_type": "execute_result"
    }
   ],
   "source": [
    "lista7 = [1,2,3]\n",
    "lista8 = [4,5,6]\n",
    "\n",
    "resultado07 = list(map(lambda x, y: x*y, lista7, lista8))\n",
    "resultado07"
   ]
  }
 ],
 "metadata": {
  "kernelspec": {
   "display_name": "Python 3",
   "language": "python",
   "name": "python3"
  },
  "language_info": {
   "codemirror_mode": {
    "name": "ipython",
    "version": 3
   },
   "file_extension": ".py",
   "mimetype": "text/x-python",
   "name": "python",
   "nbconvert_exporter": "python",
   "pygments_lexer": "ipython3",
   "version": "3.11.1"
  }
 },
 "nbformat": 4,
 "nbformat_minor": 2
}
